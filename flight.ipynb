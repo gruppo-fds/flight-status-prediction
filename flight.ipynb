{
 "cells": [
  {
   "cell_type": "code",
   "execution_count": null,
   "metadata": {},
   "outputs": [],
   "source": [
    "import pandas as pd\n",
    "import seaborn as sns\n",
    "from matplotlib import pyplot as plt"
   ]
  },
  {
   "cell_type": "code",
   "execution_count": null,
   "metadata": {},
   "outputs": [],
   "source": [
    "DATASET_PATH = \"D:/flight dataset/\""
   ]
  },
  {
   "cell_type": "code",
   "execution_count": null,
   "metadata": {},
   "outputs": [],
   "source": [
    "df = pd.read_csv(DATASET_PATH + \"Combined_Flights_2018.csv\")\n",
    "intr_cols = [\n",
    "    \"FlightDate\",\n",
    "    \"Airline\",\n",
    "    \"Origin\",\n",
    "    \"Dest\",\n",
    "    \"Cancelled\",\n",
    "    \"Diverted\",\n",
    "    \"DepTime\",\n",
    "    \"DepDelayMinutes\",\n",
    "    \"ArrTime\",\n",
    "    \"ArrDelayMinutes\",\n",
    "    \"AirTime\",\n",
    "    \"ActualElapsedTime\",\n",
    "    \"Distance\",\n",
    "    \"Year\",\n",
    "    \"Month\",\n",
    "    \"DayofMonth\",\n",
    "    \"DayOfWeek\",\n",
    "    \"Operating_Airline\",\n",
    "    \"DOT_ID_Operating_Airline\",\n",
    "    \"Tail_Number\",\n",
    "    \"Flight_Number_Operating_Airline\",\n",
    "    \"OriginCityName\",\n",
    "    \"OriginStateName\",\n",
    "    \"OriginWac\",\n",
    "    \"DestCityName\",\n",
    "    \"DestStateName\",\n",
    "    \"DestWac\",\n",
    "    \"TaxiOut\",\n",
    "    \"WheelsOff\",\n",
    "    \"WheelsOn\",\n",
    "    \"TaxiIn\",\n",
    "    \"DivAirportLandings\"\n",
    "]\n",
    "\n",
    "df = df[intr_cols]\n",
    "\n"
   ]
  },
  {
   "cell_type": "code",
   "execution_count": null,
   "metadata": {},
   "outputs": [],
   "source": [
    "# CORR PLOT\n",
    "corrDf = df.drop(\"Year\", inplace=False, axis=1)\n",
    "sns.heatmap(corrDf.corr(), annot=False)\n",
    "plt.show()"
   ]
  },
  {
   "cell_type": "code",
   "execution_count": null,
   "metadata": {},
   "outputs": [],
   "source": [
    "# Load all dataframes\n",
    "files = [\"Combined_Flights_2018.csv\", \"Combined_Flights_2019.csv\", \"Combined_Flights_2021.csv\", \"Combined_Flights_2022.csv\"]\n",
    "df = pd.DataFrame({})\n",
    "for dataFile in files:\n",
    "    dfTemp = pd.read_csv(DATASET_PATH + dataFile)\n",
    "    dfTemp = dfTemp[[\"DepDelayMinutes\", \"DayOfWeek\", \"OriginStateName\"]]\n",
    "    df = pd.concat([df, dfTemp], ignore_index=True)\n",
    "    del dfTemp\n",
    "\n",
    "df2020 = pd.read_csv(DATASET_PATH + \"Combined_Flights_2020.csv\")\n",
    "df2020 = df2020[[\"DepDelayMinutes\", \"DayOfWeek\", \"OriginStateName\"]]"
   ]
  },
  {
   "cell_type": "code",
   "execution_count": null,
   "metadata": {},
   "outputs": [],
   "source": []
  },
  {
   "cell_type": "code",
   "execution_count": null,
   "metadata": {},
   "outputs": [],
   "source": [
    "# BAR PLOT DELAY\n",
    "onTimeDf = df.query(\"DepDelayMinutes == 0\").size\n",
    "smallDelay = df.query(\"DepDelayMinutes > 0 & DepDelayMinutes <= 15\").size\n",
    "mediumDelay = df.query(\"DepDelayMinutes > 15  & DepDelayMinutes <= 30\").size\n",
    "largeDelay = df.query(\"DepDelayMinutes > 30\").size\n",
    "\n",
    "plt.bar([\"On Time\", \"Small Delay\", \"Medium Delay\", \"Large Delay\"], [onTimeDf, smallDelay, mediumDelay, largeDelay], color = [\"purple\", \"violet\", \"slateblue\", \"royalblue\"])\n",
    "plt.title(\"Type of Delay\");"
   ]
  },
  {
   "cell_type": "code",
   "execution_count": null,
   "metadata": {},
   "outputs": [],
   "source": [
    "# BAR PLOT: Average Delay by Week\n",
    "daily = []\n",
    "weekRange = [\"Mon\", \"Tue\", \"Wed\", \"Thu\", \"Fri\", \"Sat\", \"Sun\"]\n",
    "\n",
    "for x in range(1, len(weekRange) + 1):\n",
    "    dailyDf = df.query(f\"DayOfWeek == {x}\")\n",
    "    daily.append(dailyDf[\"DepDelayMinutes\"].sum() / dailyDf.size)\n",
    "\n",
    "plt.bar(weekRange, daily, color = [\"springgreen\", \"lightgreen\", \"mediumseagreen\", \"limegreen\", \"seagreen\",  \"forestgreen\",  \"darkgreen\"])\n",
    "plt.title(\"Average Delay by Week\");"
   ]
  },
  {
   "cell_type": "code",
   "execution_count": null,
   "metadata": {},
   "outputs": [],
   "source": [
    "groupDf = df[[\"DepDelayMinutes\", \"OriginStateName\"]].groupby([\"OriginStateName\"])\n",
    "joined = groupDf.sum().merge(groupDf.size().rename(\"size\"), left_index=True, right_index=True)\n",
    "avgDelState = joined[\"DepDelayMinutes\"] / joined[\"size\"]\n",
    "avgDelState = avgDelState.sort_values(ascending=True)\n",
    "plt.figure(figsize=(5,10))\n",
    "avgDelState.plot.barh(color=\"teal\")\n"
   ]
  }
 ],
 "metadata": {
  "interpreter": {
   "hash": "a0b743e3f46610aef585505bfb8ed266070dd1178baff540cb1eb86ae22f2f85"
  },
  "kernelspec": {
   "display_name": "Python 3.9.13 64-bit",
   "name": "python3"
  },
  "language_info": {
   "codemirror_mode": {
    "name": "ipython",
    "version": 3
   },
   "file_extension": ".py",
   "mimetype": "text/x-python",
   "name": "python",
   "nbconvert_exporter": "python",
   "pygments_lexer": "ipython3",
   "version": "3.9.13"
  },
  "orig_nbformat": 4
 },
 "nbformat": 4,
 "nbformat_minor": 2
}
