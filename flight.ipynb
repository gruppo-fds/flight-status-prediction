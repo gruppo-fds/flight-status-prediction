{
 "cells": [
  {
   "cell_type": "code",
   "execution_count": null,
   "metadata": {},
   "outputs": [],
   "source": [
    "import pandas as pd\n",
    "import seaborn as sns\n",
    "from matplotlib import pyplot as plt"
   ]
  },
  {
   "cell_type": "code",
   "execution_count": null,
   "metadata": {},
   "outputs": [],
   "source": [
    "DATASET_PATH = \"D:/flight dataset/\""
   ]
  },
  {
   "cell_type": "code",
   "execution_count": null,
   "metadata": {},
   "outputs": [],
   "source": [
    "df = pd.read_csv(DATASET_PATH + \"Combined_Flights_2018.csv\")\n",
    "intr_cols = [\n",
    "    #\"FlightDate\",\n",
    "    #\"Airline\",\n",
    "    \"Origin\",\n",
    "    \"Dest\",\n",
    "    #\"Cancelled\",\n",
    "    #\"Diverted\",\n",
    "    \"DepTime\",\n",
    "    \"DepDelayMinutes\",\n",
    "    #\"ArrTime\",\n",
    "    #\"ArrDelayMinutes\",\n",
    "    #\"AirTime\",\n",
    "    #\"ActualElapsedTime\",\n",
    "    \"Distance\",\n",
    "    #\"Year\",\n",
    "    \"Month\",\n",
    "    \"DayofMonth\",\n",
    "    \"DayOfWeek\",\n",
    "    #\"Operating_Airline\",\n",
    "    \"DOT_ID_Operating_Airline\",\n",
    "    \"Tail_Number\",\n",
    "    \"Flight_Number_Operating_Airline\",\n",
    "    #\"OriginCityName\",\n",
    "    #\"OriginStateName\",\n",
    "    #\"OriginWac\",\n",
    "    #\"DestCityName\",\n",
    "    #\"DestStateName\",\n",
    "    #\"DestWac\",\n",
    "    \"WheelsOff\",\n",
    "    #\"WheelsOn\",\n",
    "    \"TaxiOut\",\n",
    "    \"TaxiIn\"\n",
    "    #\"DivAirportLandings\"\n",
    "]\n",
    "\n",
    "df = df[intr_cols]\n",
    "\n"
   ]
  },
  {
   "cell_type": "code",
   "execution_count": null,
   "metadata": {},
   "outputs": [],
   "source": [
    "# CORR PLOT\n",
    "corrDf = df.drop(\"Year\", inplace=False, axis=1)\n",
    "sns.heatmap(corrDf.corr(), annot=False)\n",
    "plt.show()"
   ]
  },
  {
   "cell_type": "code",
   "execution_count": null,
   "metadata": {},
   "outputs": [],
   "source": [
    "# Load all dataframes\n",
    "files = [\"Combined_Flights_2018.csv\", \"Combined_Flights_2019.csv\", \"Combined_Flights_2021.csv\", \"Combined_Flights_2022.csv\"]\n",
    "df = pd.DataFrame({})\n",
    "for dataFile in files:\n",
    "    dfTemp = pd.read_csv(DATASET_PATH + dataFile)\n",
    "    dfTemp = dfTemp[[\"DepDelayMinutes\", \"DayOfWeek\", \"OriginStateName\"]]\n",
    "    df = pd.concat([df, dfTemp], ignore_index=True)\n",
    "    del dfTemp\n",
    "\n",
    "df2020 = pd.read_csv(DATASET_PATH + \"Combined_Flights_2020.csv\")\n",
    "df2020 = df2020[[\"DepDelayMinutes\", \"DayOfWeek\", \"OriginStateName\"]]"
   ]
  },
  {
   "cell_type": "code",
   "execution_count": null,
   "metadata": {},
   "outputs": [],
   "source": []
  },
  {
   "cell_type": "code",
   "execution_count": null,
   "metadata": {},
   "outputs": [],
   "source": [
    "# BAR PLOT DELAY\n",
    "def plotDelayType(df, title):\n",
    "    onTimeDf = df.query(\"DepDelayMinutes == 0\").size\n",
    "    smallDelay = df.query(\"DepDelayMinutes > 0 & DepDelayMinutes <= 15\").size\n",
    "    mediumDelay = df.query(\"DepDelayMinutes > 15  & DepDelayMinutes <= 30\").size\n",
    "    largeDelay = df.query(\"DepDelayMinutes > 30\").size\n",
    "\n",
    "    plt.bar([\"On Time\", \"Small Delay\", \"Medium Delay\", \"Large Delay\"], [onTimeDf, smallDelay, mediumDelay, largeDelay], color = [\"purple\", \"violet\", \"slateblue\", \"royalblue\"])\n",
    "    plt.title(title)\n",
    "    plt.show()\n",
    "plotDelayType(df, \"Type of Delay\\n2020 excluded\")\n",
    "plotDelayType(df2020, \"Type of Delay 2020\")"
   ]
  },
  {
   "cell_type": "code",
   "execution_count": null,
   "metadata": {},
   "outputs": [],
   "source": [
    "# BAR PLOT: Average Delay by Week\n",
    "def weeklyDelay(df, title):\n",
    "    daily = []\n",
    "    weekRange = [\"Mon\", \"Tue\", \"Wed\", \"Thu\", \"Fri\", \"Sat\", \"Sun\"]\n",
    "\n",
    "    for x in range(1, len(weekRange) + 1):\n",
    "        dailyDf = df.query(f\"DayOfWeek == {x}\")\n",
    "        daily.append(dailyDf[\"DepDelayMinutes\"].sum() / dailyDf.size)\n",
    "\n",
    "    plt.bar(weekRange, daily, color = [\"springgreen\", \"lightgreen\", \"mediumseagreen\", \"limegreen\", \"seagreen\",  \"forestgreen\",  \"darkgreen\"])\n",
    "    plt.title(title)\n",
    "    plt.show()\n",
    "weeklyDelay(df, \"Average Delay by Week\\n2020 excluded\")\n",
    "weeklyDelay(df2020, \"Average Delay by Week 2020\")\n"
   ]
  },
  {
   "cell_type": "code",
   "execution_count": null,
   "metadata": {},
   "outputs": [],
   "source": [
    "groupDf = df[[\"DepDelayMinutes\", \"OriginStateName\"]].groupby([\"OriginStateName\"])\n",
    "joined = groupDf.sum().merge(groupDf.size().rename(\"size\"), left_index=True, right_index=True)\n",
    "avgDelState = joined[\"DepDelayMinutes\"] / joined[\"size\"]\n",
    "avgDelState = avgDelState.sort_values(ascending=True)\n",
    "plt.figure(figsize=(5,10))\n",
    "avgDelState.plot.barh(color=\"teal\");\n"
   ]
  },
  {
   "cell_type": "code",
   "execution_count": null,
   "metadata": {},
   "outputs": [],
   "source": [
    "# Dataset preprocessing\n",
    "from sklearn.model_selection import train_test_split\n",
    "from sklearn.preprocessing import LabelEncoder\n",
    "import numpy as np\n",
    "\n",
    "# Encode str to int32 \n",
    "leAirport = LabelEncoder()\n",
    "leTail = LabelEncoder()\n",
    "leAirport.fit(np.unique(df[[\"Origin\", \"Dest\"]].values.reshape(1, -1)))\n",
    "df[\"Origin\"] = leAirport.transform(df[\"Origin\"])\n",
    "df[\"Dest\"] = leAirport.transform(df[\"Dest\"])\n",
    "df[\"Tail_Number\"] = leTail.fit_transform(df[\"Tail_Number\"])\n",
    "\n",
    "# Encode delayed result\n",
    "df[\"DepDelayMinutes\"] = (df[\"DepDelayMinutes\"] > 15).astype(\"int\")"
   ]
  },
  {
   "cell_type": "code",
   "execution_count": null,
   "metadata": {},
   "outputs": [],
   "source": [
    "print(np.isnan(df.values).sum(axis=0))\n",
    "df.info()"
   ]
  },
  {
   "cell_type": "code",
   "execution_count": null,
   "metadata": {},
   "outputs": [],
   "source": [
    "# Split dataset\n",
    "y = df[\"DepDelayMinutes\"].values\n",
    "X = df.drop(\"DepDelayMinutes\", inplace=False, axis = 1).values\n",
    "X_train, X_test, y_train, y_test = train_test_split(X, y, test_size = 0.25, random_state = 0)\n"
   ]
  },
  {
   "cell_type": "code",
   "execution_count": null,
   "metadata": {},
   "outputs": [],
   "source": [
    "from sklearn.linear_model import LogisticRegression\n",
    "from sklearn.preprocessing import StandardScaler\n",
    "#sc = StandardScaler()\n",
    "#X_train = sc.fit_transform(X_train)\n",
    "#X_test = sc.transform(X_test)\n",
    "\n",
    "#classifier = LogisticRegression()\n",
    "np.isnan(X_train)\n",
    "#classifier.fit(X_train, y_train)"
   ]
  }
 ],
 "metadata": {
  "interpreter": {
   "hash": "a0b743e3f46610aef585505bfb8ed266070dd1178baff540cb1eb86ae22f2f85"
  },
  "kernelspec": {
   "display_name": "Python 3.9.13 64-bit",
   "name": "python3"
  },
  "language_info": {
   "codemirror_mode": {
    "name": "ipython",
    "version": 3
   },
   "file_extension": ".py",
   "mimetype": "text/x-python",
   "name": "python",
   "nbconvert_exporter": "python",
   "pygments_lexer": "ipython3",
   "version": "3.9.13"
  },
  "orig_nbformat": 4
 },
 "nbformat": 4,
 "nbformat_minor": 2
}
